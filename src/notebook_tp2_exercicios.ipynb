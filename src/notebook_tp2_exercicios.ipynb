{
 "cells": [
  {
   "cell_type": "code",
   "execution_count": 58,
   "metadata": {},
   "outputs": [],
   "source": [
    "import matplotlib.ticker as ticker\n",
    "import matplotlib.pyplot as plt\n",
    "import seaborn as sns\n",
    "import json\n",
    "import pandas as pd\n",
    "import yaml\n",
    "import getpass\n",
    "import os\n",
    "import google.generativeai as genai\n",
    "from IPython.display import display, Markdown\n",
    "from lorem_text import lorem"
   ]
  },
  {
   "cell_type": "markdown",
   "metadata": {},
   "source": [
    "Informe abaixo a sua key para a API do Gemini:"
   ]
  },
  {
   "cell_type": "code",
   "execution_count": 10,
   "metadata": {},
   "outputs": [],
   "source": [
    "if 'GOOGLE_API_KEY' not in os.environ:\n",
    "    os.environ['GOOGLE_API_KEY'] = getpass.getpass('Enter your Google AI API key: ')"
   ]
  },
  {
   "cell_type": "code",
   "execution_count": 11,
   "metadata": {},
   "outputs": [],
   "source": [
    "genai.configure(api_key=os.environ['GOOGLE_API_KEY'])"
   ]
  },
  {
   "cell_type": "markdown",
   "metadata": {},
   "source": [
    "### Exercício 7: Resumo de Notícia Utilizando Exemplos em Prompts"
   ]
  },
  {
   "cell_type": "code",
   "execution_count": 8,
   "metadata": {},
   "outputs": [],
   "source": [
    "def summarize_news(text: str) -> str:\n",
    "    '''\n",
    "    Summarizes a given news article text using a generative AI model. \n",
    "    Display the summarized text in markdown.\n",
    "    Args:\n",
    "        text (str): The news article text to be summarized.\n",
    "    '''\n",
    "    model = genai.GenerativeModel('gemini-1.5-flash')\n",
    "\n",
    "    prompt = f'''\n",
    "You are a journalist for a large broadcaster. Your function is to summarize news articles. Given the {text}, you should summarize it by following the example.\n",
    "###\n",
    "EXAMPLE\n",
    "Summary: Dogs respond better to positive reinforcement than to punishment when trained. MIT scientists discovered that rewarding dogs for good behavior is 80%\n",
    "more effective than punishing them when they don't behave well.\n",
    "Subject: Science\n",
    "'''\n",
    "    response = model.generate_content(prompt.format(text))\n",
    "\n",
    "    response = response.text.strip().replace('\\n', ' ').replace('###', '')\n",
    "\n",
    "    markdown_output = f'''\n",
    "#### News Summary\n",
    "\n",
    "{response}\n",
    "'''\n",
    "    display(Markdown(markdown_output))"
   ]
  },
  {
   "cell_type": "markdown",
   "metadata": {},
   "source": [
    "Texto da notícia a ser resumida"
   ]
  },
  {
   "cell_type": "code",
   "execution_count": 9,
   "metadata": {},
   "outputs": [],
   "source": [
    "text = '''\n",
    "The European Union has fined Meta Platforms €798 million ($840 million) over what it called abusive practices benefiting Facebook Marketplace.\n",
    "“The European Commission has fined Meta … for breaching EU antitrust rules by tying its online classified ads service Facebook Marketplace to\n",
    "its personal social network Facebook and by imposing unfair trading conditions on other online classified ads service providers,” the EUs \n",
    "executive arm said in a statement. Meta (META) said it will appeal the decision, but in the meantime, it will comply and will work quickly\n",
    "and constructively to launch a solution that addresses the points raised. The move by the European Commission comes two years after it accused\n",
    "the US tech giant of giving its classified ads service Facebook Marketplace an unfair advantage by bundling the two services together. The European\n",
    "Union opened formal proceedings into possible anticompetitive conduct of Facebook in June 2021, and in December 2022 raised concerns that Meta\n",
    "ties its dominant social network Facebook to its online classified ad services. Facebook launched Marketplace in 2016 and expanded into several\n",
    "European countries a year later. The EU decision argues that Meta imposes Facebook Marketplace on people who use Facebook in an illegal “tie” but Meta\n",
    "said that argument ignores the fact that Facebook users can choose whether to engage with Marketplace, and many do not. Meta said the European\n",
    "Commission claimed that Marketplace had the potential to hinder the growth of large incumbent online marketplaces in the EU but could not find any evidence\n",
    "of harm to competitors. Companies risk fines of as much as 10 percent of their global turnover for EU antitrust violations.\n",
    "'''"
   ]
  },
  {
   "cell_type": "code",
   "execution_count": 147,
   "metadata": {},
   "outputs": [
    {
     "data": {
      "text/markdown": [
       "\n",
       "#### News Summary\n",
       "\n",
       " Summary: The European Union fined Meta Platforms €798 million ($840 million) for anti-competitive practices that gave Facebook Marketplace an unfair advantage. The EU claims Meta illegally tied Facebook Marketplace to Facebook and imposed unfair conditions on competitors. Meta plans to appeal the decision but will comply in the meantime.  Subject: Business/Technology\n"
      ],
      "text/plain": [
       "<IPython.core.display.Markdown object>"
      ]
     },
     "metadata": {},
     "output_type": "display_data"
    }
   ],
   "source": [
    "summarize_news(text)"
   ]
  },
  {
   "cell_type": "markdown",
   "metadata": {},
   "source": [
    "O LLM foi capaz de gerar um bom resumo, citando o valor da multa, o motivo, e a resposta da empresa META.\n",
    "Classificou corretamente o assunto da notícia."
   ]
  },
  {
   "cell_type": "markdown",
   "metadata": {},
   "source": [
    "### Exercício 8: Identificação de Entidades em Notícias com LLM"
   ]
  },
  {
   "cell_type": "code",
   "execution_count": 10,
   "metadata": {},
   "outputs": [],
   "source": [
    "def identify_entities(news: str):\n",
    "    '''\n",
    "    Identifies relevant people and entities mentioned in a news story.\n",
    "    This function uses a generative model to analyze a given news story \n",
    "    and extract the main people and entities mentioned in it, displaying\n",
    "    the result in markdown.\n",
    "    Args:\n",
    "        news (str): The news story as a string.\n",
    "    '''\n",
    "    model = genai.GenerativeModel(model_name='gemini-1.5-pro')\n",
    "\n",
    "\n",
    "    prompt = f'''\n",
    "You were hired by a consultancy to identify relevant people and entities when reading a news story. Given the following news,\n",
    "you must identify the main people and entities mentioned as per the example. Follow the example output format for the identified\n",
    "entities\n",
    "News: {news}\n",
    "###\n",
    "EXAMPLE\n",
    "Input: News: Elon Musk, CEO of Tesla and SpaceX, announced a new partnership with NASA to develop a lunar lander.\n",
    "Output: Entities: Elon Musk(person), Tesla(enterprise), SpaceX(enterprise), NASA(government agency)\n",
    "'''\n",
    "    response = model.generate_content(contents=prompt.format(text))\n",
    "\n",
    "    response = response.text.strip().replace('\\n', ' ')\n",
    "\n",
    "    markdown_output = f'''\n",
    "#### Identified Entities\n",
    "\n",
    "{response}\n",
    "'''\n",
    "    display(Markdown(markdown_output))\n",
    "\n",
    "    "
   ]
  },
  {
   "cell_type": "markdown",
   "metadata": {},
   "source": [
    "Texto da primeira notícia"
   ]
  },
  {
   "cell_type": "code",
   "execution_count": 11,
   "metadata": {},
   "outputs": [],
   "source": [
    "news = '''\n",
    " Jennifer Lopez is keeping it professional.\n",
    "\n",
    "A video making the rounds on social media shows Lopez on a red carpet for her latest project, the film “Unstoppable,” where she was asked about her former husband\n",
    "\n",
    "Ben Affleck’s praise of her performance.\n",
    "\n",
    "Affleck is one of the producers of her film which also stars Don Cheadle, Jharrel Jerome, and Bobby Cannavale.\n",
    "\n",
    "“Jennifer’s spectacular,” Affleck said during an interview earlier this week. “We believed in the right people, and ‘Unstoppable’ is another example of that.”\n",
    "\n",
    "In the video being widely shared on social media, Lopez opted to extend kind words to the entire cast and crew.\n",
    "\n",
    "“I would describe all of the cast and everybody behind the scenes as spectacular and wonderful,” she said.\n",
    "\n",
    "“Unstoppable” tells the true story of wrestler Anthony Robles, who was born with one leg and went on to win a national championship in 2011.\n",
    "\n",
    "“Unstoppable is a very different movie than this, but in a way, it’s similarly rooted in the passion of really talented artists,” Affleck told “Entertainment Tonight.”\n",
    "\n",
    "“It speaks to a certain kind of thing I guess we’re drawn to. We really believe in the power of storytelling when the people involved in it are deeply connected to the story.”\n",
    "\n",
    "He and Lopez split months ago. Lopez filed for dissolution of their two-year marriage in Los Angeles in August, a date that coincided with the anniversary of their Riceboro,\n",
    "\n",
    "Georgia-set wedding ceremony in 2022. They had eloped in Las Vegas a month prior. \n",
    "'''"
   ]
  },
  {
   "cell_type": "code",
   "execution_count": 141,
   "metadata": {},
   "outputs": [
    {
     "data": {
      "text/markdown": [
       "\n",
       "#### Identified Entities\n",
       "\n",
       "Entities: Jennifer Lopez (person), Ben Affleck (person), Don Cheadle (person), Jharrel Jerome (person), Bobby Cannavale (person), Unstoppable (movie), Anthony Robles (person), Entertainment Tonight (media outlet),  Riceboro, Georgia (place), Las Vegas (place), Los Angeles (place)\n"
      ],
      "text/plain": [
       "<IPython.core.display.Markdown object>"
      ]
     },
     "metadata": {},
     "output_type": "display_data"
    }
   ],
   "source": [
    "identify_entities(news)"
   ]
  },
  {
   "cell_type": "markdown",
   "metadata": {},
   "source": [
    "O LLM foi capaz de identificar todas as pessoas e entidades citadas na notícia. O LLM considerou localidades como entidades, o que não é relevante dado o contexto da consultoria."
   ]
  },
  {
   "cell_type": "markdown",
   "metadata": {},
   "source": [
    "Texto da segunda notícia"
   ]
  },
  {
   "cell_type": "code",
   "execution_count": 12,
   "metadata": {},
   "outputs": [],
   "source": [
    "news = '''\n",
    "The British Museum said on Wednesday it would receive 1,700 pieces of world-renowned Chinese ceramics worth around 1 billion pounds ($1.27 billion),\n",
    "\n",
    "in the largest donation in its nearly 300-year history. The collection, which has been on loan to the British Museum since 2009, has been donated by\n",
    "\n",
    "the Percival David Foundation. Examples from the collection include the blue-and-white “David vases” from 1351, a tiny porcelain wine cup from the late\n",
    "\n",
    "15th century known as a “chicken cup,” one of the most sought-after items in Chinese art, and “Ru wares,” artifacts dating back to the late 11th century.\n",
    "\n",
    "“This is the largest bequest to the British Museum in our long history,” said George Osborne, chair of the British Museum. “It’s a real vote of confidence in our future.”\n",
    "\n",
    "Thanks to the donation, the British Museum said it would hold one of the most important collections of Chinese ceramics of any public institution outside the\n",
    "\n",
    "Chinese-speaking world, numbering 10,000 objects. Born in 1892, Percival David was a British businessman whose passion for China inspired him to study the language\n",
    "\n",
    "and collect ceramics — mainly objects of imperial quality or of traditional Chinese taste — to build his private collection. British arts minister Chris Bryant said the\n",
    "\n",
    "collection would “educate and enlighten future generations for many years to come.” The British Museum said it would loan some of the ceramics to the Shanghai Museum\n",
    "\n",
    "in China and Metropolitan Museum in New York to support exhibitions there. Porcelain was first produced in China around AD 600, and it is by far the most advanced in\n",
    "\n",
    "the world. The ceramic artifacts were made for the imperial court, for the domestic market or for export.\n",
    "\n",
    "'''"
   ]
  },
  {
   "cell_type": "code",
   "execution_count": 155,
   "metadata": {},
   "outputs": [
    {
     "data": {
      "text/markdown": [
       "\n",
       "#### Identified Entities\n",
       "\n",
       "Entities: British Museum(museum), Percival David Foundation(foundation), George Osborne(person), Shanghai Museum(museum), Metropolitan Museum(museum),  Percival David(person), Chris Bryant(person), Chinese-speaking world(geopolitical region/cultural sphere), China(country), New York(city/state),  British arts minister(government position)\n"
      ],
      "text/plain": [
       "<IPython.core.display.Markdown object>"
      ]
     },
     "metadata": {},
     "output_type": "display_data"
    }
   ],
   "source": [
    "identify_entities(news)"
   ]
  },
  {
   "cell_type": "markdown",
   "metadata": {},
   "source": [
    "O LLM foi capaz de identificar todas as pessoas e entidades citadas na notícia. Novamente o LLM considerou localidades como entidades. Também considerou \"Chinese-speaking world\" como uma entidade, o que seria mais uma ideia/conceito do que uma entidade concreta."
   ]
  },
  {
   "cell_type": "markdown",
   "metadata": {},
   "source": [
    "Texto da terceira notícia"
   ]
  },
  {
   "cell_type": "code",
   "execution_count": 162,
   "metadata": {},
   "outputs": [],
   "source": [
    "news = '''\n",
    "The Kansas City-area homes of Chiefs stars Patrick Mahomes and Travis Kelce were burglarized last month, according to multiple local news outlets citing authorities.\n",
    "\n",
    "The reported burglaries – including $20,000 in cash taken from one home – happened just before and on the day of the Chiefs’ win against the New Orleans Saints on October 7,\n",
    "\n",
    "which aired on “Monday Night Football,” a game attended by Kelce’s girlfriend, singer-songwriter Taylor Swift. “Obviously, it’s frustrating, it’s disappointing,” Mahomes\n",
    "\n",
    "said Wednesday when asked about the burglary. “I can’t get into too many of the details because the investigation is still ongoing, but (it’s) obviously something that you\n",
    "\n",
    "don’t want to happen to really anybody but obviously yourself.” Kelce has not publicly commented on the thefts, which were first reported by TMZ. CNN has reached out to\n",
    "\n",
    "the Chiefs for comment. Deputies responded to the first reported burglary shortly after midnight on October 6 at a home in Loch Lloyd, Missouri, a criminal report from\n",
    "\n",
    "the Cass County Sheriff’s Office states. That home belongs to Mahomes, the Chiefs’ quarterback, CNN affiliates KCTV and KSHB reported. There was no forced entry and\n",
    "\n",
    "“deputies completed an investigation and a report was taken,” according to the criminal report. The second burglary at a home in Leawood, Kansas, is believed to have\n",
    "\n",
    "occurred around 7:30 p.m. on October 7, according to a police report obtained by CNN. The home was believed to belong to Kelce, the Chiefs tight end, KCTV said. The report,\n",
    "\n",
    "made to police on October 8, indicates $20,000 in cash was stolen and $1,000 worth of damage done to a rear door. The Chiefs have won two straight Super Bowls and are 9-0\n",
    "\n",
    "on the season.\n",
    "\n",
    "'''"
   ]
  },
  {
   "cell_type": "code",
   "execution_count": 163,
   "metadata": {},
   "outputs": [
    {
     "data": {
      "text/markdown": [
       "\n",
       "#### Identified Entities\n",
       "\n",
       "Entities: Patrick Mahomes(person), Travis Kelce(person), Kansas City Chiefs(sports team), New Orleans Saints(sports team), Taylor Swift(person), TMZ(media organization), CNN(media organization), Cass County Sheriff’s Office(government agency), KCTV(media organization), KSHB(media organization), Leawood Police Department (government agency - implied)\n"
      ],
      "text/plain": [
       "<IPython.core.display.Markdown object>"
      ]
     },
     "metadata": {},
     "output_type": "display_data"
    }
   ],
   "source": [
    "identify_entities(news)"
   ]
  },
  {
   "cell_type": "markdown",
   "metadata": {},
   "source": [
    "O LLM foi capaz de identificar todas as pessoas e entidades citadas na notícia. Curiosamente, o LLM não considerou localidades como entidades dessa vez. Entre os exemplos feitos com as três notícias, o último gerou a resposta mais relevante no contexto de uma consultoria."
   ]
  },
  {
   "cell_type": "markdown",
   "metadata": {},
   "source": [
    "### Exercício 9: Cálculo de Tokens em Texto Longo com API Gemini"
   ]
  },
  {
   "cell_type": "code",
   "execution_count": 4,
   "metadata": {},
   "outputs": [],
   "source": [
    "def estimate_tokens(num_words:int, model:str):\n",
    "    '''\n",
    "    Estimate the number of tokens generated by a given model for a specified number of words.\n",
    "\n",
    "    Args:\n",
    "        num_words (int): The number of words to generate.\n",
    "        model (str): The name of the generative model to use.\n",
    "\n",
    "    Returns:\n",
    "        int: The estimated number of tokens.\n",
    "    '''\n",
    "    model = genai.GenerativeModel(model_name=model)\n",
    "    rd_text = lorem.words(num_words)\n",
    "    tokens = model.count_tokens(rd_text)\n",
    "    return tokens\n",
    "\n"
   ]
  },
  {
   "cell_type": "markdown",
   "metadata": {},
   "source": [
    "Estimando o número de tokens para processar um texto de 5000 palavras"
   ]
  },
  {
   "cell_type": "code",
   "execution_count": 5,
   "metadata": {},
   "outputs": [
    {
     "data": {
      "text/plain": [
       "total_tokens: 8829"
      ]
     },
     "execution_count": 5,
     "metadata": {},
     "output_type": "execute_result"
    }
   ],
   "source": [
    "estimate_tokens(5000, 'gemini-1.5-pro')"
   ]
  },
  {
   "cell_type": "markdown",
   "metadata": {},
   "source": [
    "O uso real de tokens pode variar, pois é diferente para cada língua. A função criada usa um texto lorem ipsum para simular um texto com 5000 palavras."
   ]
  },
  {
   "cell_type": "markdown",
   "metadata": {},
   "source": [
    "### Exercício 11: Estruturação de Prompts com Arquivo YAML"
   ]
  },
  {
   "cell_type": "markdown",
   "metadata": {},
   "source": [
    "Carregando o arquivo YAML:"
   ]
  },
  {
   "cell_type": "code",
   "execution_count": 8,
   "metadata": {},
   "outputs": [
    {
     "data": {
      "text/plain": [
       "{'roteiro': {'atenas': 'You are a tourism specialist who offers consultancy. Create a short travel itinerary for the city of Athens, listing 3 different tourist attractions, with a brief description and informing the annual number of visitors to each one. The response must be a JSON object without any other text, with the name of the attraction as an element with the description, annual_visitors and city key-value pairs. The annual_visitors values should be numeric',\n",
       "  'roma': 'You are a tourism specialist who offers consultancy. Create a short travel itinerary for the city of Rome, listing 3 different tourist attractions, with a brief description and informing the annual number of visitors to each one. The response must be a JSON object without any other text, with the name of the attraction as an element with the description, annual_visitors and city key-value pairs. The annual_visitors values should be numeric'}}"
      ]
     },
     "execution_count": 8,
     "metadata": {},
     "output_type": "execute_result"
    }
   ],
   "source": [
    "with open('exemplo.yaml') as stream:\n",
    "    try:\n",
    "        config = yaml.safe_load(stream)\n",
    "    except yaml.YAMLError as exc:\n",
    "        print(exc)\n",
    "\n",
    "config"
   ]
  },
  {
   "cell_type": "code",
   "execution_count": 27,
   "metadata": {},
   "outputs": [],
   "source": [
    "def create_travel_itinerary(model_name: str,prompt: str):\n",
    "    \"\"\"\n",
    "    Generates a travel itinerary based on the provided model and prompt, and displays it as Markdown.\n",
    "    Args:\n",
    "        model_name (str): The name of the generative model to use for creating the itinerary.\n",
    "        prompt (str): The prompt or input text to generate the travel itinerary from.\n",
    "    Returns:\n",
    "        None\n",
    "    \"\"\"\n",
    "    model = genai.GenerativeModel(model_name=model_name)\n",
    "\n",
    "    response = model.generate_content(contents=prompt)\n",
    "\n",
    "    response = response.text.strip().replace('\\n', ' ').replace('#', '')\n",
    "\n",
    "    display(Markdown(response))    "
   ]
  },
  {
   "cell_type": "code",
   "execution_count": 28,
   "metadata": {},
   "outputs": [
    {
     "data": {
      "text/markdown": [
       " Athens Itinerary: Ancient Wonders & Modern Delights (3 Days)  This itinerary focuses on three key Athenian attractions, blending ancient history with a taste of modern Greek life. It caters to travellers interested in iconic landmarks and provides flexibility for personal exploration.  **Day 1: The Acropolis & Plaka Charm**  * **Morning:** **Acropolis of Athens (Approx. 7 million visitors annually)**  -  Dominating the Athenian skyline, the Acropolis is a UNESCO World Heritage site and the symbol of ancient Greece. Explore the Parthenon, Erechtheion, Propylaea, and Temple of Athena Nike, marveling at the architectural genius and historical significance.  Allow 2-3 hours for a thorough visit.  Consider a guided tour to gain deeper insights into the mythology and history. * **Afternoon:** **Plaka (Visitor numbers not precisely tracked but estimated in the millions annually)** - Nestled at the foot of the Acropolis, Plaka is a charming historic neighborhood with narrow, winding streets, neoclassical houses, and souvenir shops. Enjoy a leisurely lunch at a traditional taverna, browse local crafts, and soak in the vibrant atmosphere. * **Evening:** Enjoy dinner in Plaka, choosing from a range of traditional Greek restaurants or rooftop venues offering breathtaking Acropolis views.   **Day 2:  Ancient Agora & Museum Exploration**  * **Morning:** **Ancient Agora of Athens (Approx. 1.5 million visitors annually)** -  The heart of ancient Athenian democracy and social life, the Agora was a bustling marketplace and meeting place. Explore the ruins of temples, stoas, and the Bouleuterion (council chamber).  Don't miss the reconstructed Stoa of Attalos, housing the Museum of the Ancient Agora. Allow 2-3 hours. * **Afternoon:** **Museum of Acropolis (Approx. 2 million visitors annually)** - Located at the foot of the Acropolis, this modern museum houses a stunning collection of artifacts found on the Acropolis, providing context and enhancing your understanding of the site.  Allow 2 hours for a thorough visit. * **Evening:**  Experience a traditional Greek cooking class and learn to prepare classic dishes like moussaka and spanakopita. Alternatively, enjoy a performance at the Odeon of Herodes Atticus (if available during your visit).   **Day 3:  Monastiraki & Departure**  * **Morning:** **Monastiraki Flea Market (Visitor numbers not precisely tracked but highly frequented)** - Immerse yourself in the vibrant atmosphere of Monastiraki, known for its flea market and antique shops.  Bargain for souvenirs, discover unique treasures, and enjoy the lively street scene. * **Afternoon:** Enjoy a final Greek meal overlooking the city before heading to the airport for your departure. Consider visiting the National Archaeological Museum (if time permits) for a broader overview of Greek history and art.  **Important Notes:**  * These visitor numbers are estimates and can vary depending on the season and current events. * Pre-booking tickets for the Acropolis and Acropolis Museum is highly recommended, especially during peak season. * Consider purchasing a combined ticket for the Acropolis and other ancient sites to save money. * Wear comfortable shoes as you'll be doing a lot of walking. * Stay hydrated, especially during the summer months. * Learn a few basic Greek phrases – locals will appreciate the effort.   This itinerary provides a solid foundation for exploring Athens.  Feel free to customize it based on your interests and time constraints. Enjoy your trip!"
      ],
      "text/plain": [
       "<IPython.core.display.Markdown object>"
      ]
     },
     "metadata": {},
     "output_type": "display_data"
    }
   ],
   "source": [
    "create_travel_itinerary('gemini-1.5-pro', config['roteiro']['atenas'])"
   ]
  },
  {
   "cell_type": "code",
   "execution_count": 29,
   "metadata": {},
   "outputs": [
    {
     "data": {
      "text/markdown": [
       " Rome: A 3-Day Itinerary Focusing on History & Art  This itinerary focuses on a blend of iconic must-sees and allows for flexibility to explore at your own pace.  It’s designed to minimize travel time between locations and maximize your experience in Rome.  **Day 1: Ancient Wonders**  * **Morning:** Colosseum & Roman Forum (Combined ticket recommended). Explore the magnificent Colosseum, the iconic amphitheater that hosted gladiatorial contests and public spectacles.  Afterwards, wander through the Roman Forum, the heart of ancient Roman political and social life, imagining the bustling activity that once filled these ruins.     * **Description:**  A journey back in time to the heart of the Roman Empire. Witness the grandeur of the Colosseum and explore the ruins of the Forum, including temples, basilicas, and government buildings.     * **Annual Visitors:** Colosseum and Roman Forum combined receive approximately **7.6 million** visitors annually.   **Day 2: Vatican City & Renaissance Splendor**  * **Morning:** Vatican City:  Visit St. Peter's Basilica, a masterpiece of Renaissance architecture, and the Vatican Museums, home to the Sistine Chapel and an unparalleled collection of art and artifacts. Book tickets online in advance to skip the long queues.     * **Description:**  Experience the spiritual heart of Catholicism within the independent city-state of Vatican City. Marvel at Michelangelo's frescoes in the Sistine Chapel and explore the vast collection within the Vatican Museums.     * **Annual Visitors:** The Vatican Museums, including the Sistine Chapel, welcome approximately **6 million** visitors annually. St. Peter's Basilica, being free to enter, sees estimated numbers exceeding **10 million**, though precise figures are harder to obtain.   **Day 3: Baroque Beauty & Hidden Gems**  * **Morning:** Trevi Fountain & Pantheon: Toss a coin into the Trevi Fountain, an 18th-century Baroque masterpiece, ensuring your return to Rome (according to legend!).  Then, visit the Pantheon, a remarkably preserved ancient Roman temple, now a church, marveling at its impressive dome and oculus.     * **Description:** Experience the beauty of Baroque Rome at the Trevi Fountain and the architectural genius of the ancient Romans at the Pantheon. These sites offer a captivating blend of art, history, and legend.     * **Annual Visitors:** The Trevi Fountain, being freely accessible, doesn't have official visitor counts, but estimates suggest it receives over **10 million visitors** annually. The Pantheon attracts approximately **9 million** visitors annually.   **Important Notes:**  * This itinerary is a suggestion, feel free to adjust it to your interests and pace. * Rome is a walkable city, but consider using public transport for longer distances. * Book accommodations and tours in advance, especially during peak season. * Wear comfortable shoes, as you'll be doing a lot of walking. * Be prepared for crowds, especially at popular attractions. * Enjoy the delicious food and vibrant atmosphere that Rome has to offer!   This tailored itinerary offers a rich experience of Rome's historical and artistic treasures. Enjoy your trip!"
      ],
      "text/plain": [
       "<IPython.core.display.Markdown object>"
      ]
     },
     "metadata": {},
     "output_type": "display_data"
    }
   ],
   "source": [
    "create_travel_itinerary('gemini-1.5-pro', config['roteiro']['roma'])"
   ]
  },
  {
   "cell_type": "markdown",
   "metadata": {},
   "source": [
    "Os pontos turísticos citados são relevantes e as descrições dos mesmos são precisas."
   ]
  },
  {
   "cell_type": "markdown",
   "metadata": {},
   "source": [
    "### Exercício 12: Sistema de Envio de Emails com Dados Turísticos em JSON"
   ]
  },
  {
   "cell_type": "code",
   "execution_count": 6,
   "metadata": {},
   "outputs": [],
   "source": [
    "def create_travel_itinerary_json(model_name: str, prompt: str) -> str:  \n",
    "    \"\"\"\n",
    "    Generates a travel itinerary in JSON format using a generative model.\n",
    "    Args:\n",
    "        model_name (str): The name of the generative model to use.\n",
    "        prompt (str): The prompt to provide to the generative model.\n",
    "    Returns:\n",
    "        str: The generated travel itinerary in JSON format as a string.\n",
    "    \"\"\"\n",
    "    model = genai.GenerativeModel(model_name=model_name)\n",
    "\n",
    "    response = model.generate_content(contents=prompt)\n",
    "\n",
    "    response = response.text.replace(\"```json\\n\",'').replace(\"\\n\",'').replace(\"```\", '')\n",
    "\n",
    "    return response"
   ]
  },
  {
   "cell_type": "markdown",
   "metadata": {},
   "source": [
    "Criando dataframe com as atrações de Atenas:"
   ]
  },
  {
   "cell_type": "code",
   "execution_count": 12,
   "metadata": {},
   "outputs": [],
   "source": [
    "atenas = create_travel_itinerary_json('gemini-1.5-pro', config['roteiro']['atenas'])\n",
    "\n",
    "df_atenas = pd.DataFrame().from_dict(json.loads(atenas), orient='index')"
   ]
  },
  {
   "cell_type": "code",
   "execution_count": 13,
   "metadata": {},
   "outputs": [],
   "source": [
    "df_atenas = df_atenas.reset_index()"
   ]
  },
  {
   "cell_type": "code",
   "execution_count": 14,
   "metadata": {},
   "outputs": [],
   "source": [
    "df_atenas = df_atenas.rename(columns={'index' : 'attraction'})"
   ]
  },
  {
   "cell_type": "code",
   "execution_count": null,
   "metadata": {},
   "outputs": [],
   "source": [
    "df_atenas['annual_visitors'] = df_atenas['annual_visitors'].str.replace(',','').astype(int)"
   ]
  },
  {
   "cell_type": "code",
   "execution_count": 16,
   "metadata": {},
   "outputs": [
    {
     "data": {
      "text/html": [
       "<div>\n",
       "<style scoped>\n",
       "    .dataframe tbody tr th:only-of-type {\n",
       "        vertical-align: middle;\n",
       "    }\n",
       "\n",
       "    .dataframe tbody tr th {\n",
       "        vertical-align: top;\n",
       "    }\n",
       "\n",
       "    .dataframe thead th {\n",
       "        text-align: right;\n",
       "    }\n",
       "</style>\n",
       "<table border=\"1\" class=\"dataframe\">\n",
       "  <thead>\n",
       "    <tr style=\"text-align: right;\">\n",
       "      <th></th>\n",
       "      <th>attraction</th>\n",
       "      <th>description</th>\n",
       "      <th>annual_visitors</th>\n",
       "      <th>city</th>\n",
       "    </tr>\n",
       "  </thead>\n",
       "  <tbody>\n",
       "    <tr>\n",
       "      <th>0</th>\n",
       "      <td>Acropolis</td>\n",
       "      <td>An ancient citadel located on a rocky outcrop ...</td>\n",
       "      <td>1400000</td>\n",
       "      <td>Athens</td>\n",
       "    </tr>\n",
       "    <tr>\n",
       "      <th>1</th>\n",
       "      <td>Acropolis Museum</td>\n",
       "      <td>A museum which houses artifacts found on the A...</td>\n",
       "      <td>2000000</td>\n",
       "      <td>Athens</td>\n",
       "    </tr>\n",
       "    <tr>\n",
       "      <th>2</th>\n",
       "      <td>Panathenaic Stadium</td>\n",
       "      <td>An all-marble stadium and the only stadium in ...</td>\n",
       "      <td>500000</td>\n",
       "      <td>Athens</td>\n",
       "    </tr>\n",
       "  </tbody>\n",
       "</table>\n",
       "</div>"
      ],
      "text/plain": [
       "            attraction                                        description  \\\n",
       "0            Acropolis  An ancient citadel located on a rocky outcrop ...   \n",
       "1     Acropolis Museum  A museum which houses artifacts found on the A...   \n",
       "2  Panathenaic Stadium  An all-marble stadium and the only stadium in ...   \n",
       "\n",
       "   annual_visitors    city  \n",
       "0          1400000  Athens  \n",
       "1          2000000  Athens  \n",
       "2           500000  Athens  "
      ]
     },
     "execution_count": 16,
     "metadata": {},
     "output_type": "execute_result"
    }
   ],
   "source": [
    "df_atenas"
   ]
  },
  {
   "cell_type": "markdown",
   "metadata": {},
   "source": [
    "Criando dataframe com as atrações de Roma:"
   ]
  },
  {
   "cell_type": "code",
   "execution_count": 17,
   "metadata": {},
   "outputs": [],
   "source": [
    "roma = create_travel_itinerary_json('gemini-1.5-pro', config['roteiro']['roma'])\n",
    "\n",
    "df_roma = pd.DataFrame().from_dict(json.loads(roma), orient='index')"
   ]
  },
  {
   "cell_type": "code",
   "execution_count": 18,
   "metadata": {},
   "outputs": [],
   "source": [
    "df_roma = df_roma.reset_index()\n",
    "\n",
    "df_roma = df_roma.rename(columns={'index' : 'attraction'})"
   ]
  },
  {
   "cell_type": "code",
   "execution_count": 19,
   "metadata": {},
   "outputs": [
    {
     "data": {
      "text/html": [
       "<div>\n",
       "<style scoped>\n",
       "    .dataframe tbody tr th:only-of-type {\n",
       "        vertical-align: middle;\n",
       "    }\n",
       "\n",
       "    .dataframe tbody tr th {\n",
       "        vertical-align: top;\n",
       "    }\n",
       "\n",
       "    .dataframe thead th {\n",
       "        text-align: right;\n",
       "    }\n",
       "</style>\n",
       "<table border=\"1\" class=\"dataframe\">\n",
       "  <thead>\n",
       "    <tr style=\"text-align: right;\">\n",
       "      <th></th>\n",
       "      <th>attraction</th>\n",
       "      <th>description</th>\n",
       "      <th>annual_visitors</th>\n",
       "      <th>city</th>\n",
       "    </tr>\n",
       "  </thead>\n",
       "  <tbody>\n",
       "    <tr>\n",
       "      <th>0</th>\n",
       "      <td>Colosseum</td>\n",
       "      <td>An iconic amphitheatre and symbol of Roman pow...</td>\n",
       "      <td>7600000</td>\n",
       "      <td>Rome</td>\n",
       "    </tr>\n",
       "    <tr>\n",
       "      <th>1</th>\n",
       "      <td>Vatican Museums</td>\n",
       "      <td>Home to a vast collection of art and artifacts...</td>\n",
       "      <td>6000000</td>\n",
       "      <td>Rome</td>\n",
       "    </tr>\n",
       "    <tr>\n",
       "      <th>2</th>\n",
       "      <td>Trevi Fountain</td>\n",
       "      <td>A Baroque masterpiece where visitors toss coin...</td>\n",
       "      <td>10000000</td>\n",
       "      <td>Rome</td>\n",
       "    </tr>\n",
       "  </tbody>\n",
       "</table>\n",
       "</div>"
      ],
      "text/plain": [
       "        attraction                                        description  \\\n",
       "0        Colosseum  An iconic amphitheatre and symbol of Roman pow...   \n",
       "1  Vatican Museums  Home to a vast collection of art and artifacts...   \n",
       "2   Trevi Fountain  A Baroque masterpiece where visitors toss coin...   \n",
       "\n",
       "   annual_visitors  city  \n",
       "0          7600000  Rome  \n",
       "1          6000000  Rome  \n",
       "2         10000000  Rome  "
      ]
     },
     "execution_count": 19,
     "metadata": {},
     "output_type": "execute_result"
    }
   ],
   "source": [
    "df_roma"
   ]
  },
  {
   "cell_type": "markdown",
   "metadata": {},
   "source": [
    "Juntando os dois dataframes:"
   ]
  },
  {
   "cell_type": "code",
   "execution_count": 20,
   "metadata": {},
   "outputs": [],
   "source": [
    "merged_df = pd.concat([df_roma, df_atenas], axis=0, ignore_index=False)"
   ]
  },
  {
   "cell_type": "code",
   "execution_count": 30,
   "metadata": {},
   "outputs": [
    {
     "data": {
      "text/html": [
       "<div>\n",
       "<style scoped>\n",
       "    .dataframe tbody tr th:only-of-type {\n",
       "        vertical-align: middle;\n",
       "    }\n",
       "\n",
       "    .dataframe tbody tr th {\n",
       "        vertical-align: top;\n",
       "    }\n",
       "\n",
       "    .dataframe thead th {\n",
       "        text-align: right;\n",
       "    }\n",
       "</style>\n",
       "<table border=\"1\" class=\"dataframe\">\n",
       "  <thead>\n",
       "    <tr style=\"text-align: right;\">\n",
       "      <th></th>\n",
       "      <th>attraction</th>\n",
       "      <th>description</th>\n",
       "      <th>annual_visitors</th>\n",
       "      <th>city</th>\n",
       "    </tr>\n",
       "  </thead>\n",
       "  <tbody>\n",
       "    <tr>\n",
       "      <th>0</th>\n",
       "      <td>Colosseum</td>\n",
       "      <td>An iconic amphitheatre and symbol of Roman pow...</td>\n",
       "      <td>7600000</td>\n",
       "      <td>Rome</td>\n",
       "    </tr>\n",
       "    <tr>\n",
       "      <th>1</th>\n",
       "      <td>Vatican Museums</td>\n",
       "      <td>Home to a vast collection of art and artifacts...</td>\n",
       "      <td>6000000</td>\n",
       "      <td>Rome</td>\n",
       "    </tr>\n",
       "    <tr>\n",
       "      <th>2</th>\n",
       "      <td>Trevi Fountain</td>\n",
       "      <td>A Baroque masterpiece where visitors toss coin...</td>\n",
       "      <td>10000000</td>\n",
       "      <td>Rome</td>\n",
       "    </tr>\n",
       "    <tr>\n",
       "      <th>0</th>\n",
       "      <td>Acropolis</td>\n",
       "      <td>An ancient citadel located on a rocky outcrop ...</td>\n",
       "      <td>1400000</td>\n",
       "      <td>Athens</td>\n",
       "    </tr>\n",
       "    <tr>\n",
       "      <th>1</th>\n",
       "      <td>Acropolis Museum</td>\n",
       "      <td>A museum which houses artifacts found on the A...</td>\n",
       "      <td>2000000</td>\n",
       "      <td>Athens</td>\n",
       "    </tr>\n",
       "    <tr>\n",
       "      <th>2</th>\n",
       "      <td>Panathenaic Stadium</td>\n",
       "      <td>An all-marble stadium and the only stadium in ...</td>\n",
       "      <td>500000</td>\n",
       "      <td>Athens</td>\n",
       "    </tr>\n",
       "  </tbody>\n",
       "</table>\n",
       "</div>"
      ],
      "text/plain": [
       "            attraction                                        description  \\\n",
       "0            Colosseum  An iconic amphitheatre and symbol of Roman pow...   \n",
       "1      Vatican Museums  Home to a vast collection of art and artifacts...   \n",
       "2       Trevi Fountain  A Baroque masterpiece where visitors toss coin...   \n",
       "0            Acropolis  An ancient citadel located on a rocky outcrop ...   \n",
       "1     Acropolis Museum  A museum which houses artifacts found on the A...   \n",
       "2  Panathenaic Stadium  An all-marble stadium and the only stadium in ...   \n",
       "\n",
       "   annual_visitors    city  \n",
       "0          7600000    Rome  \n",
       "1          6000000    Rome  \n",
       "2         10000000    Rome  \n",
       "0          1400000  Athens  \n",
       "1          2000000  Athens  \n",
       "2           500000  Athens  "
      ]
     },
     "execution_count": 30,
     "metadata": {},
     "output_type": "execute_result"
    }
   ],
   "source": [
    "merged_df"
   ]
  },
  {
   "cell_type": "markdown",
   "metadata": {},
   "source": [
    "Plotando os pontos turísticos:"
   ]
  },
  {
   "cell_type": "code",
   "execution_count": 61,
   "metadata": {},
   "outputs": [
    {
     "data": {
      "image/png": "[encoded data removed]",
      "text/plain": [
       "<Figure size 640x480 with 1 Axes>"
      ]
     },
     "metadata": {},
     "output_type": "display_data"
    }
   ],
   "source": [
    "ax = sns.barplot(data=merged_df, x='attraction', y='annual_visitors', hue='city')\n",
    "ax.set_ylim(0, merged_df['annual_visitors'].max() + 100000)  \n",
    "ax.yaxis.set_major_formatter(ticker.FuncFormatter(lambda x, _: f'{int(x):,}'))  \n",
    "plt.xticks(rotation=45)  \n",
    "plt.xlabel('Tourist Attractions')\n",
    "plt.ylabel('Annaul Visitors')\n",
    "plt.show()"
   ]
  }
 ],
 "metadata": {
  "kernelspec": {
   "display_name": ".venv",
   "language": "python",
   "name": "python3"
  },
  "language_info": {
   "codemirror_mode": {
    "name": "ipython",
    "version": 3
   },
   "file_extension": ".py",
   "mimetype": "text/x-python",
   "name": "python",
   "nbconvert_exporter": "python",
   "pygments_lexer": "ipython3",
   "version": "3.11.9"
  }
 },
 "nbformat": 4,
 "nbformat_minor": 2
}
